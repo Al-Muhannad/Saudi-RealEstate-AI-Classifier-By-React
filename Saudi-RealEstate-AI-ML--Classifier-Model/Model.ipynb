{
  "cells": [
    {
      "cell_type": "markdown",
      "metadata": {
        "id": "g0vB9eY31Itb"
      },
      "source": [
        "# **Machine Learning notebook for Saudi Real Estate Classifier**"
      ]
    },
    {
      "cell_type": "markdown",
      "metadata": {
        "id": "HxwW3O-jN_VH"
      },
      "source": [
        "# Import Libraries"
      ]
    },
    {
      "cell_type": "code",
      "execution_count": 1,
      "metadata": {
        "id": "zwhrnb-Hu1bV"
      },
      "outputs": [],
      "source": [
        "# import library cell\n",
        "import pandas as pd\n",
        "from sklearn.tree import DecisionTreeClassifier\n",
        "from sklearn.neighbors import KNeighborsClassifier\n",
        "from sklearn.naive_bayes import GaussianNB\n",
        "from sklearn import svm\n",
        "from sklearn.ensemble import RandomForestClassifier\n",
        "from sklearn.neural_network import MLPClassifier\n",
        "from sklearn.preprocessing import LabelEncoder\n",
        "from sklearn.model_selection import train_test_split\n",
        "import numpy as np\n",
        "import seaborn as sns\n",
        "import matplotlib.pyplot as plt\n",
        "import time\n",
        "import scipy.stats as stats"
      ]
    },
    {
      "cell_type": "markdown",
      "metadata": {
        "id": "8RQomTOQM0GK"
      },
      "source": [
        "Here, we Import all libraries that we need to complete our ML model in all different steps.\n",
        "\n",
        "---\n",
        "\n"
      ]
    },
    {
      "cell_type": "markdown",
      "metadata": {
        "id": "fvfNg7wjLjOp"
      },
      "source": [
        "# Import our Dataset"
      ]
    },
    {
      "cell_type": "code",
      "execution_count": 5,
      "metadata": {
        "id": "oqUAWWGycxuw"
      },
      "outputs": [
        {
          "data": {
            "text/plain": [
              "36"
            ]
          },
          "execution_count": 5,
          "metadata": {},
          "output_type": "execute_result"
        }
      ],
      "source": [
        "Q2Frame = pd.read_csv('./docrealestatesale_2023_q2.csv')\n",
        "Q3Frame = pd.read_csv('./docrealestatesale_2023_q3.csv')\n",
        "result = [Q2Frame, Q3Frame]\n",
        "frame = pd.concat(result)\n",
        "frame['عدد العقارات'].max()\n"
      ]
    },
    {
      "cell_type": "markdown",
      "metadata": {
        "id": "rUumbN_pMAqZ"
      },
      "source": [
        "We import our Dataset as CSV then fit it to Pandas read function to convert it to Dataframe.\n",
        "\n",
        "---\n",
        "\n"
      ]
    },
    {
      "cell_type": "markdown",
      "metadata": {
        "id": "AiAjZVwldQxZ"
      },
      "source": [
        "# Exploratory Data Analysis [EDA]"
      ]
    },
    {
      "cell_type": "markdown",
      "metadata": {
        "id": "LWuGiTwLJQ9F"
      },
      "source": [
        "## 1. The number of records and features (The Shape) of the dataframe"
      ]
    },
    {
      "cell_type": "code",
      "execution_count": 272,
      "metadata": {
        "colab": {
          "base_uri": "https://localhost:8080/"
        },
        "id": "R_rgahbTiYnu",
        "outputId": "1a61fae8-a90f-4e03-c172-8f03efcfae59"
      },
      "outputs": [
        {
          "name": "stdout",
          "output_type": "stream",
          "text": [
            "Number of records: 87356\n",
            "Number of features: 8\n"
          ]
        }
      ],
      "source": [
        "records, features = frame.shape\n",
        "print(f\"Number of records: {records}\")\n",
        "print(f\"Number of features: {features}\")"
      ]
    },
    {
      "cell_type": "markdown",
      "metadata": {
        "id": "ZyFb5RahJqZJ"
      },
      "source": [
        "## 2. The datatypes of the dataframe"
      ]
    },
    {
      "cell_type": "code",
      "execution_count": 273,
      "metadata": {
        "colab": {
          "base_uri": "https://localhost:8080/"
        },
        "id": "pYodswLUiYs2",
        "outputId": "00ad7862-e6a3-4f8b-de7e-74290816e22b"
      },
      "outputs": [
        {
          "name": "stdout",
          "output_type": "stream",
          "text": [
            "<class 'pandas.core.frame.DataFrame'>\n",
            "Index: 87356 entries, 0 to 48544\n",
            "Data columns (total 8 columns):\n",
            " #   Column          Non-Null Count  Dtype  \n",
            "---  ------          --------------  -----  \n",
            " 0   المنطقة         87356 non-null  object \n",
            " 1   المدينة         87356 non-null  object \n",
            " 2   المدينة / الحي  87356 non-null  object \n",
            " 3   تصنيف العقار    87356 non-null  object \n",
            " 4   نوع العقار      87356 non-null  object \n",
            " 5   عدد العقارات    87356 non-null  int64  \n",
            " 6   السعر           87356 non-null  float64\n",
            " 7   المساحة         87356 non-null  float64\n",
            "dtypes: float64(2), int64(1), object(5)\n",
            "memory usage: 6.0+ MB\n"
          ]
        }
      ],
      "source": [
        "frame.info()"
      ]
    },
    {
      "cell_type": "markdown",
      "metadata": {
        "id": "i5NRnYfbKK0a"
      },
      "source": [
        "## 3. The statistical description of the dataframe"
      ]
    },
    {
      "cell_type": "code",
      "execution_count": 274,
      "metadata": {
        "colab": {
          "base_uri": "https://localhost:8080/",
          "height": 300
        },
        "id": "YYvt8z3qiYz3",
        "outputId": "88eeebb9-b295-4479-d9b5-33d8d4f56fad"
      },
      "outputs": [
        {
          "data": {
            "text/html": [
              "<div>\n",
              "<style scoped>\n",
              "    .dataframe tbody tr th:only-of-type {\n",
              "        vertical-align: middle;\n",
              "    }\n",
              "\n",
              "    .dataframe tbody tr th {\n",
              "        vertical-align: top;\n",
              "    }\n",
              "\n",
              "    .dataframe thead th {\n",
              "        text-align: right;\n",
              "    }\n",
              "</style>\n",
              "<table border=\"1\" class=\"dataframe\">\n",
              "  <thead>\n",
              "    <tr style=\"text-align: right;\">\n",
              "      <th></th>\n",
              "      <th>عدد العقارات</th>\n",
              "      <th>السعر</th>\n",
              "      <th>المساحة</th>\n",
              "    </tr>\n",
              "  </thead>\n",
              "  <tbody>\n",
              "    <tr>\n",
              "      <th>count</th>\n",
              "      <td>87356.000000</td>\n",
              "      <td>8.735600e+04</td>\n",
              "      <td>8.735600e+04</td>\n",
              "    </tr>\n",
              "    <tr>\n",
              "      <th>mean</th>\n",
              "      <td>1.029557</td>\n",
              "      <td>1.145419e+06</td>\n",
              "      <td>4.705424e+03</td>\n",
              "    </tr>\n",
              "    <tr>\n",
              "      <th>std</th>\n",
              "      <td>0.490254</td>\n",
              "      <td>1.719896e+07</td>\n",
              "      <td>6.848859e+04</td>\n",
              "    </tr>\n",
              "    <tr>\n",
              "      <th>min</th>\n",
              "      <td>1.000000</td>\n",
              "      <td>5.000000e+03</td>\n",
              "      <td>0.000000e+00</td>\n",
              "    </tr>\n",
              "    <tr>\n",
              "      <th>25%</th>\n",
              "      <td>1.000000</td>\n",
              "      <td>1.209000e+05</td>\n",
              "      <td>3.000000e+02</td>\n",
              "    </tr>\n",
              "    <tr>\n",
              "      <th>50%</th>\n",
              "      <td>1.000000</td>\n",
              "      <td>3.990000e+05</td>\n",
              "      <td>5.000000e+02</td>\n",
              "    </tr>\n",
              "    <tr>\n",
              "      <th>75%</th>\n",
              "      <td>1.000000</td>\n",
              "      <td>8.150000e+05</td>\n",
              "      <td>7.051500e+02</td>\n",
              "    </tr>\n",
              "    <tr>\n",
              "      <th>max</th>\n",
              "      <td>36.000000</td>\n",
              "      <td>2.657190e+09</td>\n",
              "      <td>4.100323e+06</td>\n",
              "    </tr>\n",
              "  </tbody>\n",
              "</table>\n",
              "</div>"
            ],
            "text/plain": [
              "       عدد العقارات         السعر       المساحة\n",
              "count  87356.000000  8.735600e+04  8.735600e+04\n",
              "mean       1.029557  1.145419e+06  4.705424e+03\n",
              "std        0.490254  1.719896e+07  6.848859e+04\n",
              "min        1.000000  5.000000e+03  0.000000e+00\n",
              "25%        1.000000  1.209000e+05  3.000000e+02\n",
              "50%        1.000000  3.990000e+05  5.000000e+02\n",
              "75%        1.000000  8.150000e+05  7.051500e+02\n",
              "max       36.000000  2.657190e+09  4.100323e+06"
            ]
          },
          "execution_count": 274,
          "metadata": {},
          "output_type": "execute_result"
        }
      ],
      "source": [
        "frame.describe()"
      ]
    },
    {
      "cell_type": "markdown",
      "metadata": {
        "id": "ts3fFl8cKPrZ"
      },
      "source": [
        "## 4. Checking for null values in the dataframe"
      ]
    },
    {
      "cell_type": "code",
      "execution_count": 275,
      "metadata": {
        "colab": {
          "base_uri": "https://localhost:8080/"
        },
        "id": "gDteNrmbiY89",
        "outputId": "6a43b471-75f5-4d40-ff31-72d4c41bfe5f"
      },
      "outputs": [
        {
          "name": "stdout",
          "output_type": "stream",
          "text": [
            "Total Null Values:\n",
            "المنطقة           0\n",
            "المدينة           0\n",
            "المدينة / الحي    0\n",
            "تصنيف العقار      0\n",
            "نوع العقار        0\n",
            "عدد العقارات      0\n",
            "السعر             0\n",
            "المساحة           0\n",
            "dtype: int64\n"
          ]
        }
      ],
      "source": [
        "nullCount=frame.isnull().sum()\n",
        "print(f\"Total Null Values:\\n{nullCount}\")"
      ]
    },
    {
      "cell_type": "markdown",
      "metadata": {
        "id": "LS9t8UiKKbXA"
      },
      "source": [
        "## 5. Correlation matrix"
      ]
    },
    {
      "cell_type": "code",
      "execution_count": 18,
      "metadata": {
        "colab": {
          "base_uri": "https://localhost:8080/"
        },
        "id": "ZPq8d-8TiZNx",
        "outputId": "32e2550e-8f2e-4fc5-e2c6-5d34a76a104f"
      },
      "outputs": [],
      "source": [
        "#corr=frame.corr()\n",
        "#print(f\"Correlation Matrix: \\n{corr}\")"
      ]
    },
    {
      "cell_type": "markdown",
      "metadata": {
        "id": "LjJuyouOKkU3"
      },
      "source": [
        "## 6. Visualizing of Correlation Matrix"
      ]
    },
    {
      "cell_type": "code",
      "execution_count": 19,
      "metadata": {
        "colab": {
          "base_uri": "https://localhost:8080/",
          "height": 759
        },
        "id": "juFm5QLRj-y3",
        "outputId": "f46e1582-8ca8-4074-a134-75d534853c7f"
      },
      "outputs": [],
      "source": [
        "#rs = np.random.RandomState(33)\n",
        "#mask = np.triu(np.ones_like(corr, dtype=bool))\n",
        "#f, ax = plt.subplots(figsize=(11, 9))\n",
        "#cmap = sns.diverging_palette(230, 20, as_cmap=True)\n",
        "#sns.heatmap(corr, mask=mask, cmap=cmap, vmax=.3, center=0,square=True, linewidths=.5, cbar_kws={\"shrink\": .5})"
      ]
    },
    {
      "cell_type": "markdown",
      "metadata": {
        "id": "D1bo92tkOg5l"
      },
      "source": [
        "# Data preprocessing and Feature engineering\n"
      ]
    },
    {
      "cell_type": "markdown",
      "metadata": {
        "id": "sySqyWbePIbu"
      },
      "source": [
        "## Feature Extraction"
      ]
    },
    {
      "cell_type": "markdown",
      "metadata": {
        "id": "aSMwRSs_PMog"
      },
      "source": [
        "### Because we already did the Correlation matrix we figure out the rainful feature is the least related to the other features."
      ]
    },
    {
      "cell_type": "markdown",
      "metadata": {
        "id": "vnmjnMQuPSOZ"
      },
      "source": [
        "## Cleaning outliers and imputations data"
      ]
    },
    {
      "cell_type": "markdown",
      "metadata": {
        "id": "Q5KMmQ7xPWWL"
      },
      "source": [
        "### Becuase we already did Exploratory Data Analysis we figure out that we did not have any missing or outliers in our dataset that need to be filled or fixed."
      ]
    },
    {
      "cell_type": "markdown",
      "metadata": {
        "id": "qjC34DO5PfXR"
      },
      "source": [
        "## Tranformation"
      ]
    },
    {
      "cell_type": "code",
      "execution_count": 276,
      "metadata": {
        "id": "08ZC4_frOmYA"
      },
      "outputs": [
        {
          "data": {
            "text/html": [
              "<div>\n",
              "<style scoped>\n",
              "    .dataframe tbody tr th:only-of-type {\n",
              "        vertical-align: middle;\n",
              "    }\n",
              "\n",
              "    .dataframe tbody tr th {\n",
              "        vertical-align: top;\n",
              "    }\n",
              "\n",
              "    .dataframe thead th {\n",
              "        text-align: right;\n",
              "    }\n",
              "</style>\n",
              "<table border=\"1\" class=\"dataframe\">\n",
              "  <thead>\n",
              "    <tr style=\"text-align: right;\">\n",
              "      <th></th>\n",
              "      <th>المنطقة</th>\n",
              "      <th>المدينة</th>\n",
              "      <th>المدينة / الحي</th>\n",
              "      <th>تصنيف العقار</th>\n",
              "      <th>نوع العقار</th>\n",
              "      <th>عدد العقارات</th>\n",
              "      <th>السعر</th>\n",
              "      <th>المساحة</th>\n",
              "      <th>price_interval</th>\n",
              "    </tr>\n",
              "  </thead>\n",
              "  <tbody>\n",
              "    <tr>\n",
              "      <th>9</th>\n",
              "      <td>3.0</td>\n",
              "      <td>36.0</td>\n",
              "      <td>1080.0</td>\n",
              "      <td>1.0</td>\n",
              "      <td>7.0</td>\n",
              "      <td>1.0</td>\n",
              "      <td>18300000.0</td>\n",
              "      <td>1190.00</td>\n",
              "      <td>30.0</td>\n",
              "    </tr>\n",
              "    <tr>\n",
              "      <th>91</th>\n",
              "      <td>3.0</td>\n",
              "      <td>36.0</td>\n",
              "      <td>1002.0</td>\n",
              "      <td>1.0</td>\n",
              "      <td>7.0</td>\n",
              "      <td>13.0</td>\n",
              "      <td>111000000.0</td>\n",
              "      <td>12150.00</td>\n",
              "      <td>30.0</td>\n",
              "    </tr>\n",
              "    <tr>\n",
              "      <th>390</th>\n",
              "      <td>3.0</td>\n",
              "      <td>30.0</td>\n",
              "      <td>794.0</td>\n",
              "      <td>3.0</td>\n",
              "      <td>7.0</td>\n",
              "      <td>1.0</td>\n",
              "      <td>16000000.0</td>\n",
              "      <td>10000.00</td>\n",
              "      <td>30.0</td>\n",
              "    </tr>\n",
              "    <tr>\n",
              "      <th>412</th>\n",
              "      <td>3.0</td>\n",
              "      <td>36.0</td>\n",
              "      <td>1108.0</td>\n",
              "      <td>1.0</td>\n",
              "      <td>7.0</td>\n",
              "      <td>1.0</td>\n",
              "      <td>12648204.0</td>\n",
              "      <td>843.21</td>\n",
              "      <td>30.0</td>\n",
              "    </tr>\n",
              "    <tr>\n",
              "      <th>751</th>\n",
              "      <td>4.0</td>\n",
              "      <td>23.0</td>\n",
              "      <td>594.0</td>\n",
              "      <td>1.0</td>\n",
              "      <td>7.0</td>\n",
              "      <td>4.0</td>\n",
              "      <td>11500000.0</td>\n",
              "      <td>10000.00</td>\n",
              "      <td>30.0</td>\n",
              "    </tr>\n",
              "    <tr>\n",
              "      <th>...</th>\n",
              "      <td>...</td>\n",
              "      <td>...</td>\n",
              "      <td>...</td>\n",
              "      <td>...</td>\n",
              "      <td>...</td>\n",
              "      <td>...</td>\n",
              "      <td>...</td>\n",
              "      <td>...</td>\n",
              "      <td>...</td>\n",
              "    </tr>\n",
              "    <tr>\n",
              "      <th>47998</th>\n",
              "      <td>11.0</td>\n",
              "      <td>101.0</td>\n",
              "      <td>2709.0</td>\n",
              "      <td>3.0</td>\n",
              "      <td>7.0</td>\n",
              "      <td>1.0</td>\n",
              "      <td>12300000.0</td>\n",
              "      <td>2050.00</td>\n",
              "      <td>30.0</td>\n",
              "    </tr>\n",
              "    <tr>\n",
              "      <th>48059</th>\n",
              "      <td>3.0</td>\n",
              "      <td>106.0</td>\n",
              "      <td>2965.0</td>\n",
              "      <td>2.0</td>\n",
              "      <td>0.0</td>\n",
              "      <td>1.0</td>\n",
              "      <td>15000000.0</td>\n",
              "      <td>50000.00</td>\n",
              "      <td>30.0</td>\n",
              "    </tr>\n",
              "    <tr>\n",
              "      <th>48125</th>\n",
              "      <td>11.0</td>\n",
              "      <td>101.0</td>\n",
              "      <td>2739.0</td>\n",
              "      <td>3.0</td>\n",
              "      <td>7.0</td>\n",
              "      <td>1.0</td>\n",
              "      <td>12353659.5</td>\n",
              "      <td>1680.77</td>\n",
              "      <td>30.0</td>\n",
              "    </tr>\n",
              "    <tr>\n",
              "      <th>48155</th>\n",
              "      <td>6.0</td>\n",
              "      <td>73.0</td>\n",
              "      <td>1607.0</td>\n",
              "      <td>1.0</td>\n",
              "      <td>7.0</td>\n",
              "      <td>1.0</td>\n",
              "      <td>14000000.0</td>\n",
              "      <td>5533.22</td>\n",
              "      <td>30.0</td>\n",
              "    </tr>\n",
              "    <tr>\n",
              "      <th>48508</th>\n",
              "      <td>3.0</td>\n",
              "      <td>36.0</td>\n",
              "      <td>1068.0</td>\n",
              "      <td>3.0</td>\n",
              "      <td>7.0</td>\n",
              "      <td>1.0</td>\n",
              "      <td>26700000.0</td>\n",
              "      <td>1500.26</td>\n",
              "      <td>30.0</td>\n",
              "    </tr>\n",
              "  </tbody>\n",
              "</table>\n",
              "<p>740 rows × 9 columns</p>\n",
              "</div>"
            ],
            "text/plain": [
              "       المنطقة  المدينة  المدينة / الحي  تصنيف العقار  نوع العقار  \\\n",
              "9          3.0     36.0          1080.0           1.0         7.0   \n",
              "91         3.0     36.0          1002.0           1.0         7.0   \n",
              "390        3.0     30.0           794.0           3.0         7.0   \n",
              "412        3.0     36.0          1108.0           1.0         7.0   \n",
              "751        4.0     23.0           594.0           1.0         7.0   \n",
              "...        ...      ...             ...           ...         ...   \n",
              "47998     11.0    101.0          2709.0           3.0         7.0   \n",
              "48059      3.0    106.0          2965.0           2.0         0.0   \n",
              "48125     11.0    101.0          2739.0           3.0         7.0   \n",
              "48155      6.0     73.0          1607.0           1.0         7.0   \n",
              "48508      3.0     36.0          1068.0           3.0         7.0   \n",
              "\n",
              "       عدد العقارات        السعر   المساحة  price_interval  \n",
              "9               1.0   18300000.0   1190.00            30.0  \n",
              "91             13.0  111000000.0  12150.00            30.0  \n",
              "390             1.0   16000000.0  10000.00            30.0  \n",
              "412             1.0   12648204.0    843.21            30.0  \n",
              "751             4.0   11500000.0  10000.00            30.0  \n",
              "...             ...          ...       ...             ...  \n",
              "47998           1.0   12300000.0   2050.00            30.0  \n",
              "48059           1.0   15000000.0  50000.00            30.0  \n",
              "48125           1.0   12353659.5   1680.77            30.0  \n",
              "48155           1.0   14000000.0   5533.22            30.0  \n",
              "48508           1.0   26700000.0   1500.26            30.0  \n",
              "\n",
              "[740 rows x 9 columns]"
            ]
          },
          "execution_count": 276,
          "metadata": {},
          "output_type": "execute_result"
        }
      ],
      "source": [
        "encoder = LabelEncoder()\n",
        "frame[\"المدينة\"] = encoder.fit_transform(frame[\"المدينة\"])\n",
        "frame[\"المدينة / الحي\"] = encoder.fit_transform(frame[\"المدينة / الحي\"])\n",
        "frame[\"المنطقة\"] = encoder.fit_transform(frame[\"المنطقة\"])\n",
        "frame[\"تصنيف العقار\"] = encoder.fit_transform(frame[\"تصنيف العقار\"])\n",
        "frame[\"نوع العقار\"] = encoder.fit_transform(frame[\"نوع العقار\"])\n",
        "bins = [4999, 10000,50000, 100000,200000,300000,400000,500000,600000,700000,800000,900000, 1000000, 1500000, 2000000, 2500000, 3000000, 3500000, 4000000, 4500000, 5000000, 5500000, 6000000,6500000,7000000,7500000,8000000,8500000,9000000,9500000, 10000000,frame[\"السعر\"].max() ]\n",
        "\n",
        "# Create a new column with interval labels\n",
        "frame['price_interval'] = pd.cut(frame['السعر'], bins)\n",
        "frame['price_interval']=encoder.fit_transform(frame['price_interval'])\n",
        "frame.where(frame['السعر']>10000000).dropna()\n"
      ]
    },
    {
      "cell_type": "markdown",
      "metadata": {
        "id": "xD7eQCTdRp2Z"
      },
      "source": [
        "## Normalization"
      ]
    },
    {
      "cell_type": "markdown",
      "metadata": {
        "id": "kj_8ilWWRyGo"
      },
      "source": [
        "### Because our data do not have wide range and our work flow need use the data in similar, we do not need to perform normalization"
      ]
    },
    {
      "cell_type": "markdown",
      "metadata": {
        "id": "CdcooRX9zMM3"
      },
      "source": [
        "# Split data into Training and Testing"
      ]
    },
    {
      "cell_type": "markdown",
      "metadata": {
        "id": "wzVLC20bSkaR"
      },
      "source": [
        "## Define X values"
      ]
    },
    {
      "cell_type": "code",
      "execution_count": 278,
      "metadata": {
        "colab": {
          "base_uri": "https://localhost:8080/",
          "height": 424
        },
        "id": "27t8B3FPzIBJ",
        "outputId": "7075cacb-8570-4e15-eec5-beb0a3f9c414"
      },
      "outputs": [],
      "source": [
        "X =frame.drop(columns=['السعر','price_interval'])"
      ]
    },
    {
      "cell_type": "markdown",
      "metadata": {
        "id": "Qw8_0lesScEn"
      },
      "source": [
        "\n",
        "\n",
        "We will dropped the result because it belong to Y (The target) and Rainful feature because the result of the corrlation matrix and Season after testing that show in feature importans it effect the result negativly\n",
        "\n",
        "\n",
        "---\n",
        "\n"
      ]
    },
    {
      "cell_type": "markdown",
      "metadata": {
        "id": "Q4kQDQw-S2JX"
      },
      "source": [
        "## Define y value"
      ]
    },
    {
      "cell_type": "code",
      "execution_count": 279,
      "metadata": {
        "colab": {
          "base_uri": "https://localhost:8080/"
        },
        "id": "pBBXwng5rAox",
        "outputId": "2c4939e3-b7ae-4c3c-a429-15679dfe5c87"
      },
      "outputs": [],
      "source": [
        "y= frame['price_interval']"
      ]
    },
    {
      "cell_type": "markdown",
      "metadata": {
        "id": "SEs8v7G0Tbze"
      },
      "source": [
        "## Split and Assign Training and Testing"
      ]
    },
    {
      "cell_type": "code",
      "execution_count": 280,
      "metadata": {
        "id": "g1EgEjpauTbD"
      },
      "outputs": [],
      "source": [
        "X_train, X_test, y_train, y_test = train_test_split(X,y,test_size=0.1);"
      ]
    },
    {
      "cell_type": "markdown",
      "metadata": {
        "id": "cxXyZiheT9rL"
      },
      "source": [
        "# Define algorithms"
      ]
    },
    {
      "cell_type": "markdown",
      "metadata": {
        "id": "EfrA-_axUWU7"
      },
      "source": [
        "## Assign each algorithm to variable name"
      ]
    },
    {
      "cell_type": "code",
      "execution_count": 281,
      "metadata": {
        "id": "c_2phFuMNa_s"
      },
      "outputs": [],
      "source": [
        "DT= DecisionTreeClassifier()\n",
        "KNN= KNeighborsClassifier()\n",
        "NB = GaussianNB()\n",
        "SVMC =svm.SVC()\n",
        "RFC = RandomForestClassifier()\n",
        "ANN=MLPClassifier()"
      ]
    },
    {
      "cell_type": "markdown",
      "metadata": {
        "id": "bOBCVlZPUkK4"
      },
      "source": [
        "## Fitting X and y to each algorithm"
      ]
    },
    {
      "cell_type": "code",
      "execution_count": 282,
      "metadata": {
        "colab": {
          "base_uri": "https://localhost:8080/",
          "height": 129
        },
        "id": "FkxlTMG6Nbvb",
        "outputId": "ef5e0fa0-b88d-4e58-c739-36cc38968b72"
      },
      "outputs": [
        {
          "data": {
            "text/html": [
              "<style>#sk-container-id-1 {color: black;}#sk-container-id-1 pre{padding: 0;}#sk-container-id-1 div.sk-toggleable {background-color: white;}#sk-container-id-1 label.sk-toggleable__label {cursor: pointer;display: block;width: 100%;margin-bottom: 0;padding: 0.3em;box-sizing: border-box;text-align: center;}#sk-container-id-1 label.sk-toggleable__label-arrow:before {content: \"▸\";float: left;margin-right: 0.25em;color: #696969;}#sk-container-id-1 label.sk-toggleable__label-arrow:hover:before {color: black;}#sk-container-id-1 div.sk-estimator:hover label.sk-toggleable__label-arrow:before {color: black;}#sk-container-id-1 div.sk-toggleable__content {max-height: 0;max-width: 0;overflow: hidden;text-align: left;background-color: #f0f8ff;}#sk-container-id-1 div.sk-toggleable__content pre {margin: 0.2em;color: black;border-radius: 0.25em;background-color: #f0f8ff;}#sk-container-id-1 input.sk-toggleable__control:checked~div.sk-toggleable__content {max-height: 200px;max-width: 100%;overflow: auto;}#sk-container-id-1 input.sk-toggleable__control:checked~label.sk-toggleable__label-arrow:before {content: \"▾\";}#sk-container-id-1 div.sk-estimator input.sk-toggleable__control:checked~label.sk-toggleable__label {background-color: #d4ebff;}#sk-container-id-1 div.sk-label input.sk-toggleable__control:checked~label.sk-toggleable__label {background-color: #d4ebff;}#sk-container-id-1 input.sk-hidden--visually {border: 0;clip: rect(1px 1px 1px 1px);clip: rect(1px, 1px, 1px, 1px);height: 1px;margin: -1px;overflow: hidden;padding: 0;position: absolute;width: 1px;}#sk-container-id-1 div.sk-estimator {font-family: monospace;background-color: #f0f8ff;border: 1px dotted black;border-radius: 0.25em;box-sizing: border-box;margin-bottom: 0.5em;}#sk-container-id-1 div.sk-estimator:hover {background-color: #d4ebff;}#sk-container-id-1 div.sk-parallel-item::after {content: \"\";width: 100%;border-bottom: 1px solid gray;flex-grow: 1;}#sk-container-id-1 div.sk-label:hover label.sk-toggleable__label {background-color: #d4ebff;}#sk-container-id-1 div.sk-serial::before {content: \"\";position: absolute;border-left: 1px solid gray;box-sizing: border-box;top: 0;bottom: 0;left: 50%;z-index: 0;}#sk-container-id-1 div.sk-serial {display: flex;flex-direction: column;align-items: center;background-color: white;padding-right: 0.2em;padding-left: 0.2em;position: relative;}#sk-container-id-1 div.sk-item {position: relative;z-index: 1;}#sk-container-id-1 div.sk-parallel {display: flex;align-items: stretch;justify-content: center;background-color: white;position: relative;}#sk-container-id-1 div.sk-item::before, #sk-container-id-1 div.sk-parallel-item::before {content: \"\";position: absolute;border-left: 1px solid gray;box-sizing: border-box;top: 0;bottom: 0;left: 50%;z-index: -1;}#sk-container-id-1 div.sk-parallel-item {display: flex;flex-direction: column;z-index: 1;position: relative;background-color: white;}#sk-container-id-1 div.sk-parallel-item:first-child::after {align-self: flex-end;width: 50%;}#sk-container-id-1 div.sk-parallel-item:last-child::after {align-self: flex-start;width: 50%;}#sk-container-id-1 div.sk-parallel-item:only-child::after {width: 0;}#sk-container-id-1 div.sk-dashed-wrapped {border: 1px dashed gray;margin: 0 0.4em 0.5em 0.4em;box-sizing: border-box;padding-bottom: 0.4em;background-color: white;}#sk-container-id-1 div.sk-label label {font-family: monospace;font-weight: bold;display: inline-block;line-height: 1.2em;}#sk-container-id-1 div.sk-label-container {text-align: center;}#sk-container-id-1 div.sk-container {/* jupyter's `normalize.less` sets `[hidden] { display: none; }` but bootstrap.min.css set `[hidden] { display: none !important; }` so we also need the `!important` here to be able to override the default hidden behavior on the sphinx rendered scikit-learn.org. See: https://github.com/scikit-learn/scikit-learn/issues/21755 */display: inline-block !important;position: relative;}#sk-container-id-1 div.sk-text-repr-fallback {display: none;}</style><div id=\"sk-container-id-1\" class=\"sk-top-container\"><div class=\"sk-text-repr-fallback\"><pre>MLPClassifier()</pre><b>In a Jupyter environment, please rerun this cell to show the HTML representation or trust the notebook. <br />On GitHub, the HTML representation is unable to render, please try loading this page with nbviewer.org.</b></div><div class=\"sk-container\" hidden><div class=\"sk-item\"><div class=\"sk-estimator sk-toggleable\"><input class=\"sk-toggleable__control sk-hidden--visually\" id=\"sk-estimator-id-1\" type=\"checkbox\" checked><label for=\"sk-estimator-id-1\" class=\"sk-toggleable__label sk-toggleable__label-arrow\">MLPClassifier</label><div class=\"sk-toggleable__content\"><pre>MLPClassifier()</pre></div></div></div></div></div>"
            ],
            "text/plain": [
              "MLPClassifier()"
            ]
          },
          "execution_count": 282,
          "metadata": {},
          "output_type": "execute_result"
        }
      ],
      "source": [
        "DT.fit(X_train.values,y_train.values)\n",
        "KNN.fit(X_train.values,y_train.values)\n",
        "NB.fit(X_train.values,y_train.values)\n",
        "SVMC.fit(X_train.values,y_train.values)\n",
        "RFC.fit(X_train.values,y_train.values)\n",
        "ANN.fit(X_train.values,y_train.values)"
      ]
    },
    {
      "cell_type": "markdown",
      "metadata": {
        "id": "SSdoGXCzn1UD"
      },
      "source": [
        "# Feature Selection\n",
        "Only tree-based algorithms mainly focus on the feature importance technique to give a visualization of the tree structure.\n",
        "\n",
        "\n",
        "---\n",
        "\n"
      ]
    },
    {
      "cell_type": "markdown",
      "metadata": {
        "id": "GZnyBQapVXWq"
      },
      "source": [
        "## Decision Tree Feature Importance"
      ]
    },
    {
      "cell_type": "code",
      "execution_count": 283,
      "metadata": {
        "colab": {
          "base_uri": "https://localhost:8080/"
        },
        "id": "RWEHen9ac0Dd",
        "outputId": "2c64caaf-8ad5-418e-c3c6-09cd85139e05"
      },
      "outputs": [
        {
          "data": {
            "text/plain": [
              "array([0.04198201, 0.03825549, 0.35322782, 0.03286398, 0.01493581,\n",
              "       0.00454879, 0.5141861 ])"
            ]
          },
          "execution_count": 283,
          "metadata": {},
          "output_type": "execute_result"
        }
      ],
      "source": [
        "DT.feature_importances_"
      ]
    },
    {
      "cell_type": "markdown",
      "metadata": {
        "id": "kBqDEjiEVqj7"
      },
      "source": [
        "## Random Forest Feature Importance"
      ]
    },
    {
      "cell_type": "code",
      "execution_count": 284,
      "metadata": {
        "colab": {
          "base_uri": "https://localhost:8080/"
        },
        "id": "w92BaLm8YFRx",
        "outputId": "43427a47-02a1-433d-c90c-ca6fbdeb8a2e"
      },
      "outputs": [
        {
          "data": {
            "text/plain": [
              "array([0.03581902, 0.05818723, 0.36174335, 0.01170726, 0.01494943,\n",
              "       0.00438064, 0.51321308])"
            ]
          },
          "execution_count": 284,
          "metadata": {},
          "output_type": "execute_result"
        }
      ],
      "source": [
        "RFC.feature_importances_"
      ]
    },
    {
      "cell_type": "markdown",
      "metadata": {
        "id": "FJ8RJbvVcioE"
      },
      "source": [
        "# Model Development\n",
        "In this section we will experiment different models and report observations in terms of predictions and training time\n",
        "\n",
        "\n",
        "---\n",
        "\n"
      ]
    },
    {
      "cell_type": "markdown",
      "metadata": {
        "id": "5d7K46wQbhBm"
      },
      "source": [
        "## Decision Tree"
      ]
    },
    {
      "cell_type": "code",
      "execution_count": null,
      "metadata": {
        "colab": {
          "base_uri": "https://localhost:8080/"
        },
        "id": "eE1-4Hk3z_TM",
        "outputId": "127d0a5f-d6dd-4b7d-c4cb-a02d37b29f23"
      },
      "outputs": [
        {
          "name": "stdout",
          "output_type": "stream",
          "text": [
            "Run time [s]:  0.0007200241088867188\n",
            "predictions:  [1]\n"
          ]
        }
      ],
      "source": [
        "start = time.time()\n",
        "DTRes=DT.predict([[4,144,3803,3,7,1,920.00]])\n",
        "end = time.time()\n",
        "print(\"Run time [s]: \",end-start)\n",
        "print(\"predictions: \",DTRes)"
      ]
    },
    {
      "cell_type": "markdown",
      "metadata": {},
      "source": [
        "## K-nearest Neighbors"
      ]
    },
    {
      "cell_type": "code",
      "execution_count": null,
      "metadata": {},
      "outputs": [
        {
          "name": "stdout",
          "output_type": "stream",
          "text": [
            "Run time [s]:  0.002438068389892578\n",
            "predictions:  [1]\n"
          ]
        }
      ],
      "source": [
        "start = time.time()\n",
        "KNNRes=KNN.predict([[4,144,3803,3,7,1,920.00]])\n",
        "end = time.time()\n",
        "print(\"Run time [s]: \",end-start)\n",
        "print(\"predictions: \",KNNRes)"
      ]
    },
    {
      "cell_type": "markdown",
      "metadata": {},
      "source": [
        "## Naive Bayes"
      ]
    },
    {
      "cell_type": "code",
      "execution_count": null,
      "metadata": {},
      "outputs": [
        {
          "name": "stdout",
          "output_type": "stream",
          "text": [
            "Run time [s]:  0.0007560253143310547\n",
            "predictions:  [1]\n"
          ]
        }
      ],
      "source": [
        "start = time.time()\n",
        "NBRes=NB.predict([[4,144,3803,3,7,1,920.00]])\n",
        "end = time.time()\n",
        "print(\"Run time [s]: \",end-start)\n",
        "print(\"predictions: \",NBRes)"
      ]
    },
    {
      "cell_type": "markdown",
      "metadata": {},
      "source": [
        "## Random Forest"
      ]
    },
    {
      "cell_type": "code",
      "execution_count": null,
      "metadata": {},
      "outputs": [
        {
          "name": "stdout",
          "output_type": "stream",
          "text": [
            "Run time [s]:  0.004540920257568359\n",
            "predictions:  [1]\n"
          ]
        }
      ],
      "source": [
        "start = time.time()\n",
        "RFCRes=RFC.predict([[4,144,3803,3,7,1,920.00]])\n",
        "end = time.time()\n",
        "print(\"Run time [s]: \",end-start)\n",
        "print(\"predictions: \",RFCRes)"
      ]
    },
    {
      "cell_type": "markdown",
      "metadata": {},
      "source": [
        "## Support Vector Machine"
      ]
    },
    {
      "cell_type": "code",
      "execution_count": null,
      "metadata": {},
      "outputs": [
        {
          "name": "stdout",
          "output_type": "stream",
          "text": [
            "Run time [s]:  0.011744976043701172\n",
            "predictions:  [3]\n"
          ]
        }
      ],
      "source": [
        "start = time.time()\n",
        "SVMRes=SVMC.predict([[4,144,3803,3,7,1,920.00]])\n",
        "end = time.time()\n",
        "print(\"Run time [s]: \",end-start)\n",
        "print(\"predictions: \",SVMRes)"
      ]
    },
    {
      "cell_type": "markdown",
      "metadata": {},
      "source": [
        "## Artificial Neural Networks"
      ]
    },
    {
      "cell_type": "code",
      "execution_count": null,
      "metadata": {},
      "outputs": [
        {
          "name": "stdout",
          "output_type": "stream",
          "text": [
            "Run time [s]:  0.0002837181091308594\n",
            "predictions:  [1]\n"
          ]
        }
      ],
      "source": [
        "start = time.time()\n",
        "ANNRes=ANN.predict([[4,144,3803,3,7,1,920.00]])\n",
        "end = time.time()\n",
        "print(\"Run time [s]: \",end-start)\n",
        "print(\"predictions: \",ANNRes)"
      ]
    },
    {
      "cell_type": "markdown",
      "metadata": {
        "id": "i9oQWptdYeJK"
      },
      "source": [
        "# Analysis of Decision Tree Before Hyper-parameter Tuning"
      ]
    },
    {
      "cell_type": "markdown",
      "metadata": {
        "id": "GMdrJr3ju82z"
      },
      "source": [
        "## The depth of Decision Tree"
      ]
    },
    {
      "cell_type": "code",
      "execution_count": null,
      "metadata": {
        "colab": {
          "base_uri": "https://localhost:8080/"
        },
        "id": "xNcgnlSFYpN4",
        "outputId": "3bfb461a-3d00-4345-ccb0-508b40519c92"
      },
      "outputs": [
        {
          "name": "stdout",
          "output_type": "stream",
          "text": [
            "41\n"
          ]
        }
      ],
      "source": [
        "print(DT.get_depth())"
      ]
    },
    {
      "cell_type": "markdown",
      "metadata": {
        "id": "bMnU4eFewpET"
      },
      "source": [
        "## The number of tree leaves"
      ]
    },
    {
      "cell_type": "code",
      "execution_count": null,
      "metadata": {
        "colab": {
          "base_uri": "https://localhost:8080/"
        },
        "id": "wWxkV56luuDS",
        "outputId": "43fd9ea0-c3ee-40cc-d329-48ba1b53ae7e"
      },
      "outputs": [
        {
          "name": "stdout",
          "output_type": "stream",
          "text": [
            "32124\n"
          ]
        }
      ],
      "source": [
        "print(DT.get_n_leaves())"
      ]
    },
    {
      "cell_type": "markdown",
      "metadata": {
        "id": "woy8ZVhrw2RC"
      },
      "source": [
        "## Average Accuracy"
      ]
    },
    {
      "cell_type": "markdown",
      "metadata": {
        "id": "dylDup8cxFue"
      },
      "source": [
        "### %**79**"
      ]
    },
    {
      "cell_type": "markdown",
      "metadata": {
        "id": "6B09j9KwxS07"
      },
      "source": [
        "## Average Training Time"
      ]
    },
    {
      "cell_type": "markdown",
      "metadata": {
        "id": "LTteMX6VxXpo"
      },
      "source": [
        "### **0.00096s**"
      ]
    },
    {
      "cell_type": "markdown",
      "metadata": {
        "id": "1pKj77wqxttj"
      },
      "source": [
        "# Hyper-parameter Tuning for Decision Tree"
      ]
    },
    {
      "cell_type": "markdown",
      "metadata": {
        "id": "BLj8qZ6lxvHs"
      },
      "source": [
        "## Redefine Decision Tree"
      ]
    },
    {
      "cell_type": "code",
      "execution_count": null,
      "metadata": {
        "id": "LIZLkk_zx6DI"
      },
      "outputs": [],
      "source": [
        "DT=DecisionTreeClassifier(criterion=\"entropy\", splitter='best')"
      ]
    },
    {
      "cell_type": "markdown",
      "metadata": {
        "id": "_oCi1RRJzmli"
      },
      "source": [
        "## Fitting X and y in Decision Tree"
      ]
    },
    {
      "cell_type": "code",
      "execution_count": null,
      "metadata": {
        "colab": {
          "base_uri": "https://localhost:8080/",
          "height": 75
        },
        "id": "KVh686rQz0q-",
        "outputId": "320f3e03-8a51-4b9c-8d60-d2d7499e5d8e"
      },
      "outputs": [
        {
          "data": {
            "text/html": [
              "<style>#sk-container-id-1 {color: black;}#sk-container-id-1 pre{padding: 0;}#sk-container-id-1 div.sk-toggleable {background-color: white;}#sk-container-id-1 label.sk-toggleable__label {cursor: pointer;display: block;width: 100%;margin-bottom: 0;padding: 0.3em;box-sizing: border-box;text-align: center;}#sk-container-id-1 label.sk-toggleable__label-arrow:before {content: \"▸\";float: left;margin-right: 0.25em;color: #696969;}#sk-container-id-1 label.sk-toggleable__label-arrow:hover:before {color: black;}#sk-container-id-1 div.sk-estimator:hover label.sk-toggleable__label-arrow:before {color: black;}#sk-container-id-1 div.sk-toggleable__content {max-height: 0;max-width: 0;overflow: hidden;text-align: left;background-color: #f0f8ff;}#sk-container-id-1 div.sk-toggleable__content pre {margin: 0.2em;color: black;border-radius: 0.25em;background-color: #f0f8ff;}#sk-container-id-1 input.sk-toggleable__control:checked~div.sk-toggleable__content {max-height: 200px;max-width: 100%;overflow: auto;}#sk-container-id-1 input.sk-toggleable__control:checked~label.sk-toggleable__label-arrow:before {content: \"▾\";}#sk-container-id-1 div.sk-estimator input.sk-toggleable__control:checked~label.sk-toggleable__label {background-color: #d4ebff;}#sk-container-id-1 div.sk-label input.sk-toggleable__control:checked~label.sk-toggleable__label {background-color: #d4ebff;}#sk-container-id-1 input.sk-hidden--visually {border: 0;clip: rect(1px 1px 1px 1px);clip: rect(1px, 1px, 1px, 1px);height: 1px;margin: -1px;overflow: hidden;padding: 0;position: absolute;width: 1px;}#sk-container-id-1 div.sk-estimator {font-family: monospace;background-color: #f0f8ff;border: 1px dotted black;border-radius: 0.25em;box-sizing: border-box;margin-bottom: 0.5em;}#sk-container-id-1 div.sk-estimator:hover {background-color: #d4ebff;}#sk-container-id-1 div.sk-parallel-item::after {content: \"\";width: 100%;border-bottom: 1px solid gray;flex-grow: 1;}#sk-container-id-1 div.sk-label:hover label.sk-toggleable__label {background-color: #d4ebff;}#sk-container-id-1 div.sk-serial::before {content: \"\";position: absolute;border-left: 1px solid gray;box-sizing: border-box;top: 0;bottom: 0;left: 50%;z-index: 0;}#sk-container-id-1 div.sk-serial {display: flex;flex-direction: column;align-items: center;background-color: white;padding-right: 0.2em;padding-left: 0.2em;position: relative;}#sk-container-id-1 div.sk-item {position: relative;z-index: 1;}#sk-container-id-1 div.sk-parallel {display: flex;align-items: stretch;justify-content: center;background-color: white;position: relative;}#sk-container-id-1 div.sk-item::before, #sk-container-id-1 div.sk-parallel-item::before {content: \"\";position: absolute;border-left: 1px solid gray;box-sizing: border-box;top: 0;bottom: 0;left: 50%;z-index: -1;}#sk-container-id-1 div.sk-parallel-item {display: flex;flex-direction: column;z-index: 1;position: relative;background-color: white;}#sk-container-id-1 div.sk-parallel-item:first-child::after {align-self: flex-end;width: 50%;}#sk-container-id-1 div.sk-parallel-item:last-child::after {align-self: flex-start;width: 50%;}#sk-container-id-1 div.sk-parallel-item:only-child::after {width: 0;}#sk-container-id-1 div.sk-dashed-wrapped {border: 1px dashed gray;margin: 0 0.4em 0.5em 0.4em;box-sizing: border-box;padding-bottom: 0.4em;background-color: white;}#sk-container-id-1 div.sk-label label {font-family: monospace;font-weight: bold;display: inline-block;line-height: 1.2em;}#sk-container-id-1 div.sk-label-container {text-align: center;}#sk-container-id-1 div.sk-container {/* jupyter's `normalize.less` sets `[hidden] { display: none; }` but bootstrap.min.css set `[hidden] { display: none !important; }` so we also need the `!important` here to be able to override the default hidden behavior on the sphinx rendered scikit-learn.org. See: https://github.com/scikit-learn/scikit-learn/issues/21755 */display: inline-block !important;position: relative;}#sk-container-id-1 div.sk-text-repr-fallback {display: none;}</style><div id=\"sk-container-id-1\" class=\"sk-top-container\"><div class=\"sk-text-repr-fallback\"><pre>DecisionTreeClassifier(criterion=&#x27;entropy&#x27;)</pre><b>In a Jupyter environment, please rerun this cell to show the HTML representation or trust the notebook. <br />On GitHub, the HTML representation is unable to render, please try loading this page with nbviewer.org.</b></div><div class=\"sk-container\" hidden><div class=\"sk-item\"><div class=\"sk-estimator sk-toggleable\"><input class=\"sk-toggleable__control sk-hidden--visually\" id=\"sk-estimator-id-1\" type=\"checkbox\" checked><label for=\"sk-estimator-id-1\" class=\"sk-toggleable__label sk-toggleable__label-arrow\">DecisionTreeClassifier</label><div class=\"sk-toggleable__content\"><pre>DecisionTreeClassifier(criterion=&#x27;entropy&#x27;)</pre></div></div></div></div></div>"
            ],
            "text/plain": [
              "DecisionTreeClassifier(criterion='entropy')"
            ]
          },
          "execution_count": 63,
          "metadata": {},
          "output_type": "execute_result"
        }
      ],
      "source": [
        "DT.fit(X_train.values,y_train.values)"
      ]
    },
    {
      "cell_type": "markdown",
      "metadata": {
        "id": "75TuQiwez4zS"
      },
      "source": [
        "## Predict from Decision Tree after Hyper-parameter Tuning"
      ]
    },
    {
      "cell_type": "code",
      "execution_count": null,
      "metadata": {
        "colab": {
          "base_uri": "https://localhost:8080/"
        },
        "id": "Whzo0po10Hh6",
        "outputId": "97baf2f6-e9c9-479e-f3ed-d709b10a3119"
      },
      "outputs": [],
      "source": [
        "start = time.time()\n",
        "DTRes=DT.predict([[4,144,3803,3,7,1,920.00]])\n",
        "end = time.time()\n",
        "print(\"Run time [s]: \",end-start)\n",
        "print(\"predictions: \",DTRes)"
      ]
    },
    {
      "cell_type": "markdown",
      "metadata": {
        "id": "oC6DiLOV0R_u"
      },
      "source": [
        "# Analysis of Decision Tree After Hyper-parameter Tuning"
      ]
    },
    {
      "cell_type": "markdown",
      "metadata": {
        "id": "uuZymP1p0gtW"
      },
      "source": [
        "## The depth of Decision Tree"
      ]
    },
    {
      "cell_type": "code",
      "execution_count": null,
      "metadata": {
        "colab": {
          "base_uri": "https://localhost:8080/"
        },
        "id": "akfNO-wW0lgW",
        "outputId": "a4b458d4-adb4-4133-b4d0-9fffad809305"
      },
      "outputs": [
        {
          "name": "stdout",
          "output_type": "stream",
          "text": [
            "34\n"
          ]
        }
      ],
      "source": [
        "print(DT.get_depth())"
      ]
    },
    {
      "cell_type": "markdown",
      "metadata": {
        "id": "Esm6Q0jU0snq"
      },
      "source": [
        "## The number of tree leaves"
      ]
    },
    {
      "cell_type": "code",
      "execution_count": null,
      "metadata": {
        "colab": {
          "base_uri": "https://localhost:8080/"
        },
        "id": "IWjq-6Nx0uW4",
        "outputId": "e89041d1-8c15-4dd6-9885-9d811f39735f"
      },
      "outputs": [
        {
          "name": "stdout",
          "output_type": "stream",
          "text": [
            "32117\n"
          ]
        }
      ],
      "source": [
        "print(DT.get_n_leaves())"
      ]
    },
    {
      "cell_type": "markdown",
      "metadata": {
        "id": "VI6rnfyr06qn"
      },
      "source": [
        "## Average Accuracy"
      ]
    },
    {
      "cell_type": "markdown",
      "metadata": {
        "id": "8HueRPWn1egy"
      },
      "source": [
        "### **%80**"
      ]
    },
    {
      "cell_type": "markdown",
      "metadata": {
        "id": "-fFN95nz1plv"
      },
      "source": [
        "## Average Training Time"
      ]
    },
    {
      "cell_type": "markdown",
      "metadata": {
        "id": "iIO9BhY81wvz"
      },
      "source": [
        "### **0.00085**"
      ]
    },
    {
      "cell_type": "markdown",
      "metadata": {
        "id": "NEog0ZUa1qYp"
      },
      "source": [
        "# Saving The model\n",
        "\n",
        "In this section we will save the model that we wish to use per concluding results. When dealing with Scikit learn two popular approaches for saving the models are Joblib and Pickle. It is good to note that pickle sufferes from security issues. Here is an article to show the difference between the two:\n",
        "https://mljar.com/blog/save-load-scikit-learn-model/"
      ]
    },
    {
      "cell_type": "code",
      "execution_count": null,
      "metadata": {
        "id": "6juTMfHc211Q"
      },
      "outputs": [],
      "source": [
        "# library for save and load scikit-learn models\n",
        "#import pickle"
      ]
    },
    {
      "cell_type": "code",
      "execution_count": null,
      "metadata": {},
      "outputs": [],
      "source": [
        "# file name, I'm using *.pickle as a file extension\n",
        "filename = \"Saudi_RealEstate_Classifier.pkl\""
      ]
    },
    {
      "cell_type": "code",
      "execution_count": null,
      "metadata": {},
      "outputs": [],
      "source": [
        "# save model\n",
        "pickle.dump(DT, open(filename, \"wb\"))"
      ]
    },
    {
      "cell_type": "code",
      "execution_count": null,
      "metadata": {},
      "outputs": [],
      "source": [
        "# load model\n",
        "loaded_model = pickle.load(open(filename, \"rb\"))"
      ]
    },
    {
      "cell_type": "code",
      "execution_count": null,
      "metadata": {},
      "outputs": [],
      "source": [
        "# you can use loaded model to compute predictions\n",
        "y_predicted = loaded_model.predict([[4,144,3803,3,7,1,920.00]])\n",
        "y_predicted[0]"
      ]
    }
  ],
  "metadata": {
    "colab": {
      "collapsed_sections": [
        "TDRVVonMuWpQ",
        "HxwW3O-jN_VH",
        "AiAjZVwldQxZ",
        "NEog0ZUa1qYp"
      ],
      "provenance": []
    },
    "kernelspec": {
      "display_name": "Python 3",
      "name": "python3"
    },
    "language_info": {
      "codemirror_mode": {
        "name": "ipython",
        "version": 3
      },
      "file_extension": ".py",
      "mimetype": "text/x-python",
      "name": "python",
      "nbconvert_exporter": "python",
      "pygments_lexer": "ipython3",
      "version": "3.12.0"
    }
  },
  "nbformat": 4,
  "nbformat_minor": 0
}
